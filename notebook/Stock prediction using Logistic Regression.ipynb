{
 "cells": [
  {
   "cell_type": "code",
   "execution_count": 1,
   "id": "2cfff9ec",
   "metadata": {},
   "outputs": [],
   "source": [
    "import yfinance as yf\n",
    "import numpy as np"
   ]
  },
  {
   "cell_type": "code",
   "execution_count": 2,
   "id": "dcf195a9",
   "metadata": {},
   "outputs": [
    {
     "name": "stdout",
     "output_type": "stream",
     "text": [
      "[*********************100%***********************]  1 of 1 completed\n"
     ]
    }
   ],
   "source": [
    "df = yf.download(\"^NSEI\",start='2010-01-01')\n",
    "# df = yf.download(\"AAPL\",start='2010-01-01')"
   ]
  },
  {
   "cell_type": "code",
   "execution_count": 3,
   "id": "ce75674e",
   "metadata": {},
   "outputs": [
    {
     "data": {
      "text/html": [
       "<div>\n",
       "<style scoped>\n",
       "    .dataframe tbody tr th:only-of-type {\n",
       "        vertical-align: middle;\n",
       "    }\n",
       "\n",
       "    .dataframe tbody tr th {\n",
       "        vertical-align: top;\n",
       "    }\n",
       "\n",
       "    .dataframe thead th {\n",
       "        text-align: right;\n",
       "    }\n",
       "</style>\n",
       "<table border=\"1\" class=\"dataframe\">\n",
       "  <thead>\n",
       "    <tr style=\"text-align: right;\">\n",
       "      <th></th>\n",
       "      <th>Open</th>\n",
       "      <th>High</th>\n",
       "      <th>Low</th>\n",
       "      <th>Close</th>\n",
       "      <th>Adj Close</th>\n",
       "      <th>Volume</th>\n",
       "    </tr>\n",
       "    <tr>\n",
       "      <th>Date</th>\n",
       "      <th></th>\n",
       "      <th></th>\n",
       "      <th></th>\n",
       "      <th></th>\n",
       "      <th></th>\n",
       "      <th></th>\n",
       "    </tr>\n",
       "  </thead>\n",
       "  <tbody>\n",
       "    <tr>\n",
       "      <th>2010-01-04</th>\n",
       "      <td>5200.899902</td>\n",
       "      <td>5238.450195</td>\n",
       "      <td>5167.100098</td>\n",
       "      <td>5232.200195</td>\n",
       "      <td>5232.200195</td>\n",
       "      <td>0</td>\n",
       "    </tr>\n",
       "    <tr>\n",
       "      <th>2010-01-05</th>\n",
       "      <td>5277.149902</td>\n",
       "      <td>5288.350098</td>\n",
       "      <td>5242.399902</td>\n",
       "      <td>5277.899902</td>\n",
       "      <td>5277.899902</td>\n",
       "      <td>0</td>\n",
       "    </tr>\n",
       "    <tr>\n",
       "      <th>2010-01-06</th>\n",
       "      <td>5278.149902</td>\n",
       "      <td>5310.850098</td>\n",
       "      <td>5260.049805</td>\n",
       "      <td>5281.799805</td>\n",
       "      <td>5281.799805</td>\n",
       "      <td>0</td>\n",
       "    </tr>\n",
       "    <tr>\n",
       "      <th>2010-01-07</th>\n",
       "      <td>5281.799805</td>\n",
       "      <td>5302.549805</td>\n",
       "      <td>5244.750000</td>\n",
       "      <td>5263.100098</td>\n",
       "      <td>5263.100098</td>\n",
       "      <td>0</td>\n",
       "    </tr>\n",
       "    <tr>\n",
       "      <th>2010-01-08</th>\n",
       "      <td>5264.250000</td>\n",
       "      <td>5276.750000</td>\n",
       "      <td>5234.700195</td>\n",
       "      <td>5244.750000</td>\n",
       "      <td>5244.750000</td>\n",
       "      <td>0</td>\n",
       "    </tr>\n",
       "    <tr>\n",
       "      <th>...</th>\n",
       "      <td>...</td>\n",
       "      <td>...</td>\n",
       "      <td>...</td>\n",
       "      <td>...</td>\n",
       "      <td>...</td>\n",
       "      <td>...</td>\n",
       "    </tr>\n",
       "    <tr>\n",
       "      <th>2023-04-10</th>\n",
       "      <td>17634.900391</td>\n",
       "      <td>17694.099609</td>\n",
       "      <td>17597.949219</td>\n",
       "      <td>17624.050781</td>\n",
       "      <td>17624.050781</td>\n",
       "      <td>254800</td>\n",
       "    </tr>\n",
       "    <tr>\n",
       "      <th>2023-04-11</th>\n",
       "      <td>17704.800781</td>\n",
       "      <td>17748.750000</td>\n",
       "      <td>17655.150391</td>\n",
       "      <td>17722.300781</td>\n",
       "      <td>17722.300781</td>\n",
       "      <td>304300</td>\n",
       "    </tr>\n",
       "    <tr>\n",
       "      <th>2023-04-12</th>\n",
       "      <td>17759.550781</td>\n",
       "      <td>17825.750000</td>\n",
       "      <td>17717.250000</td>\n",
       "      <td>17812.400391</td>\n",
       "      <td>17812.400391</td>\n",
       "      <td>232800</td>\n",
       "    </tr>\n",
       "    <tr>\n",
       "      <th>2023-04-13</th>\n",
       "      <td>17807.300781</td>\n",
       "      <td>17842.150391</td>\n",
       "      <td>17729.650391</td>\n",
       "      <td>17828.000000</td>\n",
       "      <td>17828.000000</td>\n",
       "      <td>285800</td>\n",
       "    </tr>\n",
       "    <tr>\n",
       "      <th>2023-04-17</th>\n",
       "      <td>17863.000000</td>\n",
       "      <td>17863.000000</td>\n",
       "      <td>17574.050781</td>\n",
       "      <td>17706.849609</td>\n",
       "      <td>17706.849609</td>\n",
       "      <td>0</td>\n",
       "    </tr>\n",
       "  </tbody>\n",
       "</table>\n",
       "<p>3259 rows × 6 columns</p>\n",
       "</div>"
      ],
      "text/plain": [
       "                    Open          High           Low         Close  \\\n",
       "Date                                                                 \n",
       "2010-01-04   5200.899902   5238.450195   5167.100098   5232.200195   \n",
       "2010-01-05   5277.149902   5288.350098   5242.399902   5277.899902   \n",
       "2010-01-06   5278.149902   5310.850098   5260.049805   5281.799805   \n",
       "2010-01-07   5281.799805   5302.549805   5244.750000   5263.100098   \n",
       "2010-01-08   5264.250000   5276.750000   5234.700195   5244.750000   \n",
       "...                  ...           ...           ...           ...   \n",
       "2023-04-10  17634.900391  17694.099609  17597.949219  17624.050781   \n",
       "2023-04-11  17704.800781  17748.750000  17655.150391  17722.300781   \n",
       "2023-04-12  17759.550781  17825.750000  17717.250000  17812.400391   \n",
       "2023-04-13  17807.300781  17842.150391  17729.650391  17828.000000   \n",
       "2023-04-17  17863.000000  17863.000000  17574.050781  17706.849609   \n",
       "\n",
       "               Adj Close  Volume  \n",
       "Date                              \n",
       "2010-01-04   5232.200195       0  \n",
       "2010-01-05   5277.899902       0  \n",
       "2010-01-06   5281.799805       0  \n",
       "2010-01-07   5263.100098       0  \n",
       "2010-01-08   5244.750000       0  \n",
       "...                  ...     ...  \n",
       "2023-04-10  17624.050781  254800  \n",
       "2023-04-11  17722.300781  304300  \n",
       "2023-04-12  17812.400391  232800  \n",
       "2023-04-13  17828.000000  285800  \n",
       "2023-04-17  17706.849609       0  \n",
       "\n",
       "[3259 rows x 6 columns]"
      ]
     },
     "execution_count": 3,
     "metadata": {},
     "output_type": "execute_result"
    }
   ],
   "source": [
    "df"
   ]
  },
  {
   "cell_type": "code",
   "execution_count": 4,
   "id": "a6b3191b",
   "metadata": {},
   "outputs": [],
   "source": [
    "df['returns'] = np.log(df.Close.pct_change() + 1)"
   ]
  },
  {
   "cell_type": "code",
   "execution_count": 5,
   "id": "7959d6c2",
   "metadata": {},
   "outputs": [],
   "source": [
    "df['direction'] = [1 if i > 0 else -1 for i in df.returns]"
   ]
  },
  {
   "cell_type": "code",
   "execution_count": 6,
   "id": "f351abe6",
   "metadata": {},
   "outputs": [],
   "source": [
    "def lagit(df,lags):\n",
    "    names=[]\n",
    "    for i in range(1,lags+1):\n",
    "        df['Lag_'+str(i)] = df['returns'].shift(i)\n",
    "        df['Lag_'+str(i)+'_dir'] = [1 if j > 0 else -1 for j in df['Lag_'+str(i)]]\n",
    "        names.append('Lag_'+str(i)+'_dir')\n",
    "    return names"
   ]
  },
  {
   "cell_type": "code",
   "execution_count": 7,
   "id": "3f980c70",
   "metadata": {},
   "outputs": [],
   "source": [
    "dirname = lagit(df,5)"
   ]
  },
  {
   "cell_type": "code",
   "execution_count": 8,
   "id": "fa18997e",
   "metadata": {},
   "outputs": [
    {
     "data": {
      "text/html": [
       "<div>\n",
       "<style scoped>\n",
       "    .dataframe tbody tr th:only-of-type {\n",
       "        vertical-align: middle;\n",
       "    }\n",
       "\n",
       "    .dataframe tbody tr th {\n",
       "        vertical-align: top;\n",
       "    }\n",
       "\n",
       "    .dataframe thead th {\n",
       "        text-align: right;\n",
       "    }\n",
       "</style>\n",
       "<table border=\"1\" class=\"dataframe\">\n",
       "  <thead>\n",
       "    <tr style=\"text-align: right;\">\n",
       "      <th></th>\n",
       "      <th>Open</th>\n",
       "      <th>High</th>\n",
       "      <th>Low</th>\n",
       "      <th>Close</th>\n",
       "      <th>Adj Close</th>\n",
       "      <th>Volume</th>\n",
       "      <th>returns</th>\n",
       "      <th>direction</th>\n",
       "      <th>Lag_1</th>\n",
       "      <th>Lag_1_dir</th>\n",
       "      <th>Lag_2</th>\n",
       "      <th>Lag_2_dir</th>\n",
       "      <th>Lag_3</th>\n",
       "      <th>Lag_3_dir</th>\n",
       "      <th>Lag_4</th>\n",
       "      <th>Lag_4_dir</th>\n",
       "      <th>Lag_5</th>\n",
       "      <th>Lag_5_dir</th>\n",
       "    </tr>\n",
       "    <tr>\n",
       "      <th>Date</th>\n",
       "      <th></th>\n",
       "      <th></th>\n",
       "      <th></th>\n",
       "      <th></th>\n",
       "      <th></th>\n",
       "      <th></th>\n",
       "      <th></th>\n",
       "      <th></th>\n",
       "      <th></th>\n",
       "      <th></th>\n",
       "      <th></th>\n",
       "      <th></th>\n",
       "      <th></th>\n",
       "      <th></th>\n",
       "      <th></th>\n",
       "      <th></th>\n",
       "      <th></th>\n",
       "      <th></th>\n",
       "    </tr>\n",
       "  </thead>\n",
       "  <tbody>\n",
       "    <tr>\n",
       "      <th>2010-01-04</th>\n",
       "      <td>5200.899902</td>\n",
       "      <td>5238.450195</td>\n",
       "      <td>5167.100098</td>\n",
       "      <td>5232.200195</td>\n",
       "      <td>5232.200195</td>\n",
       "      <td>0</td>\n",
       "      <td>NaN</td>\n",
       "      <td>-1</td>\n",
       "      <td>NaN</td>\n",
       "      <td>-1</td>\n",
       "      <td>NaN</td>\n",
       "      <td>-1</td>\n",
       "      <td>NaN</td>\n",
       "      <td>-1</td>\n",
       "      <td>NaN</td>\n",
       "      <td>-1</td>\n",
       "      <td>NaN</td>\n",
       "      <td>-1</td>\n",
       "    </tr>\n",
       "    <tr>\n",
       "      <th>2010-01-05</th>\n",
       "      <td>5277.149902</td>\n",
       "      <td>5288.350098</td>\n",
       "      <td>5242.399902</td>\n",
       "      <td>5277.899902</td>\n",
       "      <td>5277.899902</td>\n",
       "      <td>0</td>\n",
       "      <td>0.008696</td>\n",
       "      <td>1</td>\n",
       "      <td>NaN</td>\n",
       "      <td>-1</td>\n",
       "      <td>NaN</td>\n",
       "      <td>-1</td>\n",
       "      <td>NaN</td>\n",
       "      <td>-1</td>\n",
       "      <td>NaN</td>\n",
       "      <td>-1</td>\n",
       "      <td>NaN</td>\n",
       "      <td>-1</td>\n",
       "    </tr>\n",
       "    <tr>\n",
       "      <th>2010-01-06</th>\n",
       "      <td>5278.149902</td>\n",
       "      <td>5310.850098</td>\n",
       "      <td>5260.049805</td>\n",
       "      <td>5281.799805</td>\n",
       "      <td>5281.799805</td>\n",
       "      <td>0</td>\n",
       "      <td>0.000739</td>\n",
       "      <td>1</td>\n",
       "      <td>0.008696</td>\n",
       "      <td>1</td>\n",
       "      <td>NaN</td>\n",
       "      <td>-1</td>\n",
       "      <td>NaN</td>\n",
       "      <td>-1</td>\n",
       "      <td>NaN</td>\n",
       "      <td>-1</td>\n",
       "      <td>NaN</td>\n",
       "      <td>-1</td>\n",
       "    </tr>\n",
       "    <tr>\n",
       "      <th>2010-01-07</th>\n",
       "      <td>5281.799805</td>\n",
       "      <td>5302.549805</td>\n",
       "      <td>5244.750000</td>\n",
       "      <td>5263.100098</td>\n",
       "      <td>5263.100098</td>\n",
       "      <td>0</td>\n",
       "      <td>-0.003547</td>\n",
       "      <td>-1</td>\n",
       "      <td>0.000739</td>\n",
       "      <td>1</td>\n",
       "      <td>0.008696</td>\n",
       "      <td>1</td>\n",
       "      <td>NaN</td>\n",
       "      <td>-1</td>\n",
       "      <td>NaN</td>\n",
       "      <td>-1</td>\n",
       "      <td>NaN</td>\n",
       "      <td>-1</td>\n",
       "    </tr>\n",
       "    <tr>\n",
       "      <th>2010-01-08</th>\n",
       "      <td>5264.250000</td>\n",
       "      <td>5276.750000</td>\n",
       "      <td>5234.700195</td>\n",
       "      <td>5244.750000</td>\n",
       "      <td>5244.750000</td>\n",
       "      <td>0</td>\n",
       "      <td>-0.003493</td>\n",
       "      <td>-1</td>\n",
       "      <td>-0.003547</td>\n",
       "      <td>-1</td>\n",
       "      <td>0.000739</td>\n",
       "      <td>1</td>\n",
       "      <td>0.008696</td>\n",
       "      <td>1</td>\n",
       "      <td>NaN</td>\n",
       "      <td>-1</td>\n",
       "      <td>NaN</td>\n",
       "      <td>-1</td>\n",
       "    </tr>\n",
       "    <tr>\n",
       "      <th>...</th>\n",
       "      <td>...</td>\n",
       "      <td>...</td>\n",
       "      <td>...</td>\n",
       "      <td>...</td>\n",
       "      <td>...</td>\n",
       "      <td>...</td>\n",
       "      <td>...</td>\n",
       "      <td>...</td>\n",
       "      <td>...</td>\n",
       "      <td>...</td>\n",
       "      <td>...</td>\n",
       "      <td>...</td>\n",
       "      <td>...</td>\n",
       "      <td>...</td>\n",
       "      <td>...</td>\n",
       "      <td>...</td>\n",
       "      <td>...</td>\n",
       "      <td>...</td>\n",
       "    </tr>\n",
       "    <tr>\n",
       "      <th>2023-04-10</th>\n",
       "      <td>17634.900391</td>\n",
       "      <td>17694.099609</td>\n",
       "      <td>17597.949219</td>\n",
       "      <td>17624.050781</td>\n",
       "      <td>17624.050781</td>\n",
       "      <td>254800</td>\n",
       "      <td>0.001414</td>\n",
       "      <td>1</td>\n",
       "      <td>0.002395</td>\n",
       "      <td>1</td>\n",
       "      <td>0.009097</td>\n",
       "      <td>1</td>\n",
       "      <td>0.002204</td>\n",
       "      <td>1</td>\n",
       "      <td>0.016205</td>\n",
       "      <td>1</td>\n",
       "      <td>0.007581</td>\n",
       "      <td>1</td>\n",
       "    </tr>\n",
       "    <tr>\n",
       "      <th>2023-04-11</th>\n",
       "      <td>17704.800781</td>\n",
       "      <td>17748.750000</td>\n",
       "      <td>17655.150391</td>\n",
       "      <td>17722.300781</td>\n",
       "      <td>17722.300781</td>\n",
       "      <td>304300</td>\n",
       "      <td>0.005559</td>\n",
       "      <td>1</td>\n",
       "      <td>0.001414</td>\n",
       "      <td>1</td>\n",
       "      <td>0.002395</td>\n",
       "      <td>1</td>\n",
       "      <td>0.009097</td>\n",
       "      <td>1</td>\n",
       "      <td>0.002204</td>\n",
       "      <td>1</td>\n",
       "      <td>0.016205</td>\n",
       "      <td>1</td>\n",
       "    </tr>\n",
       "    <tr>\n",
       "      <th>2023-04-12</th>\n",
       "      <td>17759.550781</td>\n",
       "      <td>17825.750000</td>\n",
       "      <td>17717.250000</td>\n",
       "      <td>17812.400391</td>\n",
       "      <td>17812.400391</td>\n",
       "      <td>232800</td>\n",
       "      <td>0.005071</td>\n",
       "      <td>1</td>\n",
       "      <td>0.005559</td>\n",
       "      <td>1</td>\n",
       "      <td>0.001414</td>\n",
       "      <td>1</td>\n",
       "      <td>0.002395</td>\n",
       "      <td>1</td>\n",
       "      <td>0.009097</td>\n",
       "      <td>1</td>\n",
       "      <td>0.002204</td>\n",
       "      <td>1</td>\n",
       "    </tr>\n",
       "    <tr>\n",
       "      <th>2023-04-13</th>\n",
       "      <td>17807.300781</td>\n",
       "      <td>17842.150391</td>\n",
       "      <td>17729.650391</td>\n",
       "      <td>17828.000000</td>\n",
       "      <td>17828.000000</td>\n",
       "      <td>285800</td>\n",
       "      <td>0.000875</td>\n",
       "      <td>1</td>\n",
       "      <td>0.005071</td>\n",
       "      <td>1</td>\n",
       "      <td>0.005559</td>\n",
       "      <td>1</td>\n",
       "      <td>0.001414</td>\n",
       "      <td>1</td>\n",
       "      <td>0.002395</td>\n",
       "      <td>1</td>\n",
       "      <td>0.009097</td>\n",
       "      <td>1</td>\n",
       "    </tr>\n",
       "    <tr>\n",
       "      <th>2023-04-17</th>\n",
       "      <td>17863.000000</td>\n",
       "      <td>17863.000000</td>\n",
       "      <td>17574.050781</td>\n",
       "      <td>17706.849609</td>\n",
       "      <td>17706.849609</td>\n",
       "      <td>0</td>\n",
       "      <td>-0.006819</td>\n",
       "      <td>-1</td>\n",
       "      <td>0.000875</td>\n",
       "      <td>1</td>\n",
       "      <td>0.005071</td>\n",
       "      <td>1</td>\n",
       "      <td>0.005559</td>\n",
       "      <td>1</td>\n",
       "      <td>0.001414</td>\n",
       "      <td>1</td>\n",
       "      <td>0.002395</td>\n",
       "      <td>1</td>\n",
       "    </tr>\n",
       "  </tbody>\n",
       "</table>\n",
       "<p>3259 rows × 18 columns</p>\n",
       "</div>"
      ],
      "text/plain": [
       "                    Open          High           Low         Close  \\\n",
       "Date                                                                 \n",
       "2010-01-04   5200.899902   5238.450195   5167.100098   5232.200195   \n",
       "2010-01-05   5277.149902   5288.350098   5242.399902   5277.899902   \n",
       "2010-01-06   5278.149902   5310.850098   5260.049805   5281.799805   \n",
       "2010-01-07   5281.799805   5302.549805   5244.750000   5263.100098   \n",
       "2010-01-08   5264.250000   5276.750000   5234.700195   5244.750000   \n",
       "...                  ...           ...           ...           ...   \n",
       "2023-04-10  17634.900391  17694.099609  17597.949219  17624.050781   \n",
       "2023-04-11  17704.800781  17748.750000  17655.150391  17722.300781   \n",
       "2023-04-12  17759.550781  17825.750000  17717.250000  17812.400391   \n",
       "2023-04-13  17807.300781  17842.150391  17729.650391  17828.000000   \n",
       "2023-04-17  17863.000000  17863.000000  17574.050781  17706.849609   \n",
       "\n",
       "               Adj Close  Volume   returns  direction     Lag_1  Lag_1_dir  \\\n",
       "Date                                                                         \n",
       "2010-01-04   5232.200195       0       NaN         -1       NaN         -1   \n",
       "2010-01-05   5277.899902       0  0.008696          1       NaN         -1   \n",
       "2010-01-06   5281.799805       0  0.000739          1  0.008696          1   \n",
       "2010-01-07   5263.100098       0 -0.003547         -1  0.000739          1   \n",
       "2010-01-08   5244.750000       0 -0.003493         -1 -0.003547         -1   \n",
       "...                  ...     ...       ...        ...       ...        ...   \n",
       "2023-04-10  17624.050781  254800  0.001414          1  0.002395          1   \n",
       "2023-04-11  17722.300781  304300  0.005559          1  0.001414          1   \n",
       "2023-04-12  17812.400391  232800  0.005071          1  0.005559          1   \n",
       "2023-04-13  17828.000000  285800  0.000875          1  0.005071          1   \n",
       "2023-04-17  17706.849609       0 -0.006819         -1  0.000875          1   \n",
       "\n",
       "               Lag_2  Lag_2_dir     Lag_3  Lag_3_dir     Lag_4  Lag_4_dir  \\\n",
       "Date                                                                        \n",
       "2010-01-04       NaN         -1       NaN         -1       NaN         -1   \n",
       "2010-01-05       NaN         -1       NaN         -1       NaN         -1   \n",
       "2010-01-06       NaN         -1       NaN         -1       NaN         -1   \n",
       "2010-01-07  0.008696          1       NaN         -1       NaN         -1   \n",
       "2010-01-08  0.000739          1  0.008696          1       NaN         -1   \n",
       "...              ...        ...       ...        ...       ...        ...   \n",
       "2023-04-10  0.009097          1  0.002204          1  0.016205          1   \n",
       "2023-04-11  0.002395          1  0.009097          1  0.002204          1   \n",
       "2023-04-12  0.001414          1  0.002395          1  0.009097          1   \n",
       "2023-04-13  0.005559          1  0.001414          1  0.002395          1   \n",
       "2023-04-17  0.005071          1  0.005559          1  0.001414          1   \n",
       "\n",
       "               Lag_5  Lag_5_dir  \n",
       "Date                             \n",
       "2010-01-04       NaN         -1  \n",
       "2010-01-05       NaN         -1  \n",
       "2010-01-06       NaN         -1  \n",
       "2010-01-07       NaN         -1  \n",
       "2010-01-08       NaN         -1  \n",
       "...              ...        ...  \n",
       "2023-04-10  0.007581          1  \n",
       "2023-04-11  0.016205          1  \n",
       "2023-04-12  0.002204          1  \n",
       "2023-04-13  0.009097          1  \n",
       "2023-04-17  0.002395          1  \n",
       "\n",
       "[3259 rows x 18 columns]"
      ]
     },
     "execution_count": 8,
     "metadata": {},
     "output_type": "execute_result"
    }
   ],
   "source": [
    "df"
   ]
  },
  {
   "cell_type": "code",
   "execution_count": 9,
   "id": "d99f7186",
   "metadata": {},
   "outputs": [],
   "source": [
    "df.dropna(inplace=True)"
   ]
  },
  {
   "cell_type": "code",
   "execution_count": 10,
   "id": "2924f9ff",
   "metadata": {},
   "outputs": [],
   "source": [
    "from sklearn.linear_model import LogisticRegression\n"
   ]
  },
  {
   "cell_type": "code",
   "execution_count": 11,
   "id": "99b7e3df",
   "metadata": {},
   "outputs": [],
   "source": [
    "model = LogisticRegression()"
   ]
  },
  {
   "cell_type": "code",
   "execution_count": 12,
   "id": "613e3e68",
   "metadata": {},
   "outputs": [
    {
     "data": {
      "text/html": [
       "<style>#sk-container-id-1 {color: black;background-color: white;}#sk-container-id-1 pre{padding: 0;}#sk-container-id-1 div.sk-toggleable {background-color: white;}#sk-container-id-1 label.sk-toggleable__label {cursor: pointer;display: block;width: 100%;margin-bottom: 0;padding: 0.3em;box-sizing: border-box;text-align: center;}#sk-container-id-1 label.sk-toggleable__label-arrow:before {content: \"▸\";float: left;margin-right: 0.25em;color: #696969;}#sk-container-id-1 label.sk-toggleable__label-arrow:hover:before {color: black;}#sk-container-id-1 div.sk-estimator:hover label.sk-toggleable__label-arrow:before {color: black;}#sk-container-id-1 div.sk-toggleable__content {max-height: 0;max-width: 0;overflow: hidden;text-align: left;background-color: #f0f8ff;}#sk-container-id-1 div.sk-toggleable__content pre {margin: 0.2em;color: black;border-radius: 0.25em;background-color: #f0f8ff;}#sk-container-id-1 input.sk-toggleable__control:checked~div.sk-toggleable__content {max-height: 200px;max-width: 100%;overflow: auto;}#sk-container-id-1 input.sk-toggleable__control:checked~label.sk-toggleable__label-arrow:before {content: \"▾\";}#sk-container-id-1 div.sk-estimator input.sk-toggleable__control:checked~label.sk-toggleable__label {background-color: #d4ebff;}#sk-container-id-1 div.sk-label input.sk-toggleable__control:checked~label.sk-toggleable__label {background-color: #d4ebff;}#sk-container-id-1 input.sk-hidden--visually {border: 0;clip: rect(1px 1px 1px 1px);clip: rect(1px, 1px, 1px, 1px);height: 1px;margin: -1px;overflow: hidden;padding: 0;position: absolute;width: 1px;}#sk-container-id-1 div.sk-estimator {font-family: monospace;background-color: #f0f8ff;border: 1px dotted black;border-radius: 0.25em;box-sizing: border-box;margin-bottom: 0.5em;}#sk-container-id-1 div.sk-estimator:hover {background-color: #d4ebff;}#sk-container-id-1 div.sk-parallel-item::after {content: \"\";width: 100%;border-bottom: 1px solid gray;flex-grow: 1;}#sk-container-id-1 div.sk-label:hover label.sk-toggleable__label {background-color: #d4ebff;}#sk-container-id-1 div.sk-serial::before {content: \"\";position: absolute;border-left: 1px solid gray;box-sizing: border-box;top: 0;bottom: 0;left: 50%;z-index: 0;}#sk-container-id-1 div.sk-serial {display: flex;flex-direction: column;align-items: center;background-color: white;padding-right: 0.2em;padding-left: 0.2em;position: relative;}#sk-container-id-1 div.sk-item {position: relative;z-index: 1;}#sk-container-id-1 div.sk-parallel {display: flex;align-items: stretch;justify-content: center;background-color: white;position: relative;}#sk-container-id-1 div.sk-item::before, #sk-container-id-1 div.sk-parallel-item::before {content: \"\";position: absolute;border-left: 1px solid gray;box-sizing: border-box;top: 0;bottom: 0;left: 50%;z-index: -1;}#sk-container-id-1 div.sk-parallel-item {display: flex;flex-direction: column;z-index: 1;position: relative;background-color: white;}#sk-container-id-1 div.sk-parallel-item:first-child::after {align-self: flex-end;width: 50%;}#sk-container-id-1 div.sk-parallel-item:last-child::after {align-self: flex-start;width: 50%;}#sk-container-id-1 div.sk-parallel-item:only-child::after {width: 0;}#sk-container-id-1 div.sk-dashed-wrapped {border: 1px dashed gray;margin: 0 0.4em 0.5em 0.4em;box-sizing: border-box;padding-bottom: 0.4em;background-color: white;}#sk-container-id-1 div.sk-label label {font-family: monospace;font-weight: bold;display: inline-block;line-height: 1.2em;}#sk-container-id-1 div.sk-label-container {text-align: center;}#sk-container-id-1 div.sk-container {/* jupyter's `normalize.less` sets `[hidden] { display: none; }` but bootstrap.min.css set `[hidden] { display: none !important; }` so we also need the `!important` here to be able to override the default hidden behavior on the sphinx rendered scikit-learn.org. See: https://github.com/scikit-learn/scikit-learn/issues/21755 */display: inline-block !important;position: relative;}#sk-container-id-1 div.sk-text-repr-fallback {display: none;}</style><div id=\"sk-container-id-1\" class=\"sk-top-container\"><div class=\"sk-text-repr-fallback\"><pre>LogisticRegression()</pre><b>In a Jupyter environment, please rerun this cell to show the HTML representation or trust the notebook. <br />On GitHub, the HTML representation is unable to render, please try loading this page with nbviewer.org.</b></div><div class=\"sk-container\" hidden><div class=\"sk-item\"><div class=\"sk-estimator sk-toggleable\"><input class=\"sk-toggleable__control sk-hidden--visually\" id=\"sk-estimator-id-1\" type=\"checkbox\" checked><label for=\"sk-estimator-id-1\" class=\"sk-toggleable__label sk-toggleable__label-arrow\">LogisticRegression</label><div class=\"sk-toggleable__content\"><pre>LogisticRegression()</pre></div></div></div></div></div>"
      ],
      "text/plain": [
       "LogisticRegression()"
      ]
     },
     "execution_count": 12,
     "metadata": {},
     "output_type": "execute_result"
    }
   ],
   "source": [
    "model.fit(df[dirname],df['direction'])"
   ]
  },
  {
   "cell_type": "code",
   "execution_count": 13,
   "id": "dc701de7",
   "metadata": {},
   "outputs": [],
   "source": [
    "df['prediction_Logit'] = model.predict(df[dirname])"
   ]
  },
  {
   "cell_type": "code",
   "execution_count": 14,
   "id": "cd3ef90d",
   "metadata": {},
   "outputs": [
    {
     "data": {
      "text/plain": [
       "Date\n",
       "2010-01-12    1\n",
       "2010-01-13   -1\n",
       "2010-01-14    1\n",
       "2010-01-15    1\n",
       "2010-01-18    1\n",
       "             ..\n",
       "2023-04-10    1\n",
       "2023-04-11    1\n",
       "2023-04-12    1\n",
       "2023-04-13    1\n",
       "2023-04-17    1\n",
       "Name: prediction_Logit, Length: 3253, dtype: int64"
      ]
     },
     "execution_count": 14,
     "metadata": {},
     "output_type": "execute_result"
    }
   ],
   "source": [
    "df['prediction_Logit']"
   ]
  },
  {
   "cell_type": "code",
   "execution_count": 15,
   "id": "d59395c1",
   "metadata": {},
   "outputs": [],
   "source": [
    "df['strat_Logit'] = df['prediction_Logit'] * df['returns']"
   ]
  },
  {
   "cell_type": "code",
   "execution_count": 16,
   "id": "a35f5f35",
   "metadata": {},
   "outputs": [
    {
     "data": {
      "text/plain": [
       "returns        3.373119\n",
       "strat_Logit    3.514117\n",
       "dtype: float64"
      ]
     },
     "execution_count": 16,
     "metadata": {},
     "output_type": "execute_result"
    }
   ],
   "source": [
    "np.exp(df[['returns','strat_Logit']].sum())"
   ]
  },
  {
   "cell_type": "code",
   "execution_count": 17,
   "id": "2ab03d34",
   "metadata": {},
   "outputs": [
    {
     "data": {
      "text/plain": [
       "<AxesSubplot: xlabel='Date'>"
      ]
     },
     "execution_count": 17,
     "metadata": {},
     "output_type": "execute_result"
    },
    {
     "data": {
      "image/png": "[encoded data removed]",
      "text/plain": [
       "<Figure size 640x480 with 1 Axes>"
      ]
     },
     "metadata": {},
     "output_type": "display_data"
    }
   ],
   "source": [
    "np.exp(df[['returns','strat_Logit']].cumsum()).plot()"
   ]
  },
  {
   "cell_type": "code",
   "execution_count": 18,
   "id": "44bce26d",
   "metadata": {},
   "outputs": [],
   "source": [
    "from sklearn.model_selection import train_test_split"
   ]
  },
  {
   "cell_type": "code",
   "execution_count": 19,
   "id": "22a997ac",
   "metadata": {},
   "outputs": [],
   "source": [
    "train, test = train_test_split(df,shuffle=False,test_size=0.25,random_state=0)"
   ]
  },
  {
   "cell_type": "code",
   "execution_count": 20,
   "id": "f878e2b1",
   "metadata": {},
   "outputs": [],
   "source": [
    "train = train.copy()"
   ]
  },
  {
   "cell_type": "code",
   "execution_count": 21,
   "id": "4ea2c9ad",
   "metadata": {},
   "outputs": [],
   "source": [
    "test = test.copy()"
   ]
  },
  {
   "cell_type": "code",
   "execution_count": 22,
   "id": "8040ca95",
   "metadata": {},
   "outputs": [],
   "source": [
    "model = LogisticRegression()"
   ]
  },
  {
   "cell_type": "code",
   "execution_count": 23,
   "id": "1963d139",
   "metadata": {},
   "outputs": [
    {
     "data": {
      "text/html": [
       "<style>#sk-container-id-2 {color: black;background-color: white;}#sk-container-id-2 pre{padding: 0;}#sk-container-id-2 div.sk-toggleable {background-color: white;}#sk-container-id-2 label.sk-toggleable__label {cursor: pointer;display: block;width: 100%;margin-bottom: 0;padding: 0.3em;box-sizing: border-box;text-align: center;}#sk-container-id-2 label.sk-toggleable__label-arrow:before {content: \"▸\";float: left;margin-right: 0.25em;color: #696969;}#sk-container-id-2 label.sk-toggleable__label-arrow:hover:before {color: black;}#sk-container-id-2 div.sk-estimator:hover label.sk-toggleable__label-arrow:before {color: black;}#sk-container-id-2 div.sk-toggleable__content {max-height: 0;max-width: 0;overflow: hidden;text-align: left;background-color: #f0f8ff;}#sk-container-id-2 div.sk-toggleable__content pre {margin: 0.2em;color: black;border-radius: 0.25em;background-color: #f0f8ff;}#sk-container-id-2 input.sk-toggleable__control:checked~div.sk-toggleable__content {max-height: 200px;max-width: 100%;overflow: auto;}#sk-container-id-2 input.sk-toggleable__control:checked~label.sk-toggleable__label-arrow:before {content: \"▾\";}#sk-container-id-2 div.sk-estimator input.sk-toggleable__control:checked~label.sk-toggleable__label {background-color: #d4ebff;}#sk-container-id-2 div.sk-label input.sk-toggleable__control:checked~label.sk-toggleable__label {background-color: #d4ebff;}#sk-container-id-2 input.sk-hidden--visually {border: 0;clip: rect(1px 1px 1px 1px);clip: rect(1px, 1px, 1px, 1px);height: 1px;margin: -1px;overflow: hidden;padding: 0;position: absolute;width: 1px;}#sk-container-id-2 div.sk-estimator {font-family: monospace;background-color: #f0f8ff;border: 1px dotted black;border-radius: 0.25em;box-sizing: border-box;margin-bottom: 0.5em;}#sk-container-id-2 div.sk-estimator:hover {background-color: #d4ebff;}#sk-container-id-2 div.sk-parallel-item::after {content: \"\";width: 100%;border-bottom: 1px solid gray;flex-grow: 1;}#sk-container-id-2 div.sk-label:hover label.sk-toggleable__label {background-color: #d4ebff;}#sk-container-id-2 div.sk-serial::before {content: \"\";position: absolute;border-left: 1px solid gray;box-sizing: border-box;top: 0;bottom: 0;left: 50%;z-index: 0;}#sk-container-id-2 div.sk-serial {display: flex;flex-direction: column;align-items: center;background-color: white;padding-right: 0.2em;padding-left: 0.2em;position: relative;}#sk-container-id-2 div.sk-item {position: relative;z-index: 1;}#sk-container-id-2 div.sk-parallel {display: flex;align-items: stretch;justify-content: center;background-color: white;position: relative;}#sk-container-id-2 div.sk-item::before, #sk-container-id-2 div.sk-parallel-item::before {content: \"\";position: absolute;border-left: 1px solid gray;box-sizing: border-box;top: 0;bottom: 0;left: 50%;z-index: -1;}#sk-container-id-2 div.sk-parallel-item {display: flex;flex-direction: column;z-index: 1;position: relative;background-color: white;}#sk-container-id-2 div.sk-parallel-item:first-child::after {align-self: flex-end;width: 50%;}#sk-container-id-2 div.sk-parallel-item:last-child::after {align-self: flex-start;width: 50%;}#sk-container-id-2 div.sk-parallel-item:only-child::after {width: 0;}#sk-container-id-2 div.sk-dashed-wrapped {border: 1px dashed gray;margin: 0 0.4em 0.5em 0.4em;box-sizing: border-box;padding-bottom: 0.4em;background-color: white;}#sk-container-id-2 div.sk-label label {font-family: monospace;font-weight: bold;display: inline-block;line-height: 1.2em;}#sk-container-id-2 div.sk-label-container {text-align: center;}#sk-container-id-2 div.sk-container {/* jupyter's `normalize.less` sets `[hidden] { display: none; }` but bootstrap.min.css set `[hidden] { display: none !important; }` so we also need the `!important` here to be able to override the default hidden behavior on the sphinx rendered scikit-learn.org. See: https://github.com/scikit-learn/scikit-learn/issues/21755 */display: inline-block !important;position: relative;}#sk-container-id-2 div.sk-text-repr-fallback {display: none;}</style><div id=\"sk-container-id-2\" class=\"sk-top-container\"><div class=\"sk-text-repr-fallback\"><pre>LogisticRegression()</pre><b>In a Jupyter environment, please rerun this cell to show the HTML representation or trust the notebook. <br />On GitHub, the HTML representation is unable to render, please try loading this page with nbviewer.org.</b></div><div class=\"sk-container\" hidden><div class=\"sk-item\"><div class=\"sk-estimator sk-toggleable\"><input class=\"sk-toggleable__control sk-hidden--visually\" id=\"sk-estimator-id-2\" type=\"checkbox\" checked><label for=\"sk-estimator-id-2\" class=\"sk-toggleable__label sk-toggleable__label-arrow\">LogisticRegression</label><div class=\"sk-toggleable__content\"><pre>LogisticRegression()</pre></div></div></div></div></div>"
      ],
      "text/plain": [
       "LogisticRegression()"
      ]
     },
     "execution_count": 23,
     "metadata": {},
     "output_type": "execute_result"
    }
   ],
   "source": [
    "model.fit(train[dirname],train['direction'])"
   ]
  },
  {
   "cell_type": "code",
   "execution_count": 24,
   "id": "379748dc",
   "metadata": {},
   "outputs": [],
   "source": [
    "test['prediction_Logit'] = model.predict(test[dirname])"
   ]
  },
  {
   "cell_type": "code",
   "execution_count": 25,
   "id": "a1c3d1e1",
   "metadata": {},
   "outputs": [],
   "source": [
    "test['strat_Logit'] = test['prediction_Logit'] * test['returns']"
   ]
  },
  {
   "cell_type": "code",
   "execution_count": 26,
   "id": "aa2e7580",
   "metadata": {},
   "outputs": [
    {
     "data": {
      "text/plain": [
       "returns        1.441668\n",
       "strat_Logit    1.029229\n",
       "dtype: float64"
      ]
     },
     "execution_count": 26,
     "metadata": {},
     "output_type": "execute_result"
    }
   ],
   "source": [
    "np.exp(test[['returns','strat_Logit']].sum())"
   ]
  },
  {
   "cell_type": "code",
   "execution_count": 27,
   "id": "bbff3092",
   "metadata": {},
   "outputs": [
    {
     "data": {
      "text/plain": [
       "<AxesSubplot: xlabel='Date'>"
      ]
     },
     "execution_count": 27,
     "metadata": {},
     "output_type": "execute_result"
    },
    {
     "data": {
      "image/png": "[encoded data removed]",
      "text/plain": [
       "<Figure size 640x480 with 1 Axes>"
      ]
     },
     "metadata": {},
     "output_type": "display_data"
    }
   ],
   "source": [
    "np.exp(df[['returns','strat_Logit']].cumsum()).plot()"
   ]
  },
  {
   "cell_type": "code",
   "execution_count": 28,
   "id": "b589bfb1",
   "metadata": {},
   "outputs": [],
   "source": [
    "from sklearn.metrics import confusion_matrix,classification_report"
   ]
  },
  {
   "cell_type": "code",
   "execution_count": 29,
   "id": "15d86c4e",
   "metadata": {},
   "outputs": [
    {
     "data": {
      "text/plain": [
       "array([[ 93, 281],\n",
       "       [ 97, 343]], dtype=int64)"
      ]
     },
     "execution_count": 29,
     "metadata": {},
     "output_type": "execute_result"
    }
   ],
   "source": [
    "confusion_matrix(test['direction'],test['prediction_Logit'])"
   ]
  },
  {
   "cell_type": "code",
   "execution_count": 30,
   "id": "767b7c13",
   "metadata": {},
   "outputs": [
    {
     "name": "stdout",
     "output_type": "stream",
     "text": [
      "              precision    recall  f1-score   support\n",
      "\n",
      "          -1       0.49      0.25      0.33       374\n",
      "           1       0.55      0.78      0.64       440\n",
      "\n",
      "    accuracy                           0.54       814\n",
      "   macro avg       0.52      0.51      0.49       814\n",
      "weighted avg       0.52      0.54      0.50       814\n",
      "\n"
     ]
    }
   ],
   "source": [
    "print(classification_report(test['direction'],test['prediction_Logit']))"
   ]
  },
  {
   "cell_type": "code",
   "execution_count": null,
   "id": "196cb94c",
   "metadata": {},
   "outputs": [],
   "source": []
  }
 ],
 "metadata": {
  "kernelspec": {
   "display_name": "Python 3",
   "language": "python",
   "name": "python3"
  },
  "language_info": {
   "codemirror_mode": {
    "name": "ipython",
    "version": 3
   },
   "file_extension": ".py",
   "mimetype": "text/x-python",
   "name": "python",
   "nbconvert_exporter": "python",
   "pygments_lexer": "ipython3",
   "version": "3.9.16"
  },
  "vscode": {
   "interpreter": {
    "hash": "338fc9ecdd936f4a29d16aa443d6e043727fd9c7c70a1a6a1bfd548a1a7a2547"
   }
  }
 },
 "nbformat": 4,
 "nbformat_minor": 5
}
